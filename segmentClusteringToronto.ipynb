{
 "cells": [
  {
   "cell_type": "markdown",
   "metadata": {},
   "source": [
    "# Explore and Cluster Neighborhood Data in Toronto"
   ]
  },
  {
   "cell_type": "markdown",
   "metadata": {},
   "source": [
    "## Retrieve Data from Wikipedia Using Beautiful Soup"
   ]
  },
  {
   "cell_type": "code",
   "execution_count": 1,
   "metadata": {},
   "outputs": [],
   "source": [
    "# Wikipedia host a page of postal codes used in Toronto, Ontario, Canada\n",
    "url = 'https://en.wikipedia.org/wiki/List_of_postal_codes_of_Canada:_M'"
   ]
  },
  {
   "cell_type": "code",
   "execution_count": 2,
   "metadata": {},
   "outputs": [],
   "source": [
    "#Import the necessary libraries.\n",
    "import requests\n",
    "import csv\n",
    "import pandas as pd\n",
    "from bs4 import BeautifulSoup"
   ]
  },
  {
   "cell_type": "markdown",
   "metadata": {},
   "source": [
    "Create a place holder for the information."
   ]
  },
  {
   "cell_type": "code",
   "execution_count": 3,
   "metadata": {},
   "outputs": [],
   "source": [
    "# List\n",
    "postalcodes_list = []"
   ]
  },
  {
   "cell_type": "code",
   "execution_count": 4,
   "metadata": {},
   "outputs": [],
   "source": [
    "# Open a file handle using the comma separated value format to store the parsed output\n",
    "csv_file = open('cms_scrape.csv', 'w')\n",
    "csv_writer = csv.writer(csv_file)"
   ]
  },
  {
   "cell_type": "code",
   "execution_count": 5,
   "metadata": {},
   "outputs": [],
   "source": [
    "# Get the webpage to parse\n",
    "source = requests.get(url).text\n",
    "soup = BeautifulSoup(source, 'lxml')\n",
    "\n",
    "# Find the table that contains the information\n",
    "table = soup.find('table',class_='wikitable sortable').tbody"
   ]
  },
  {
   "cell_type": "markdown",
   "metadata": {},
   "source": [
    "## Check the Content of the HTML Page"
   ]
  },
  {
   "cell_type": "markdown",
   "metadata": {},
   "source": [
    "Find the table that contains the information. Below is an excerpt of the HTML source view of the web page showing the table and several rows of data. Note the tags, HTML elements and attributes used.\n",
    "Note that some rows have carriage return or newline marks included in the content of the last <td> element in the row."
   ]
  },
  {
   "cell_type": "markdown",
   "metadata": {},
   "source": [
    "    <table class=\"wikitable sortable\">\n",
    "        <tbody><tr>\n",
    "        <th>Postcode</th>\n",
    "        <th>Borough</th>\n",
    "        <th>Neighbourhood\n",
    "        </th></tr>\n",
    "        <tr>\n",
    "        <td>M1A</td>\n",
    "        <td>Not assigned</td>\n",
    "        <td>Not assigned\n",
    "        </td></tr>\n",
    "        <tr>\n",
    "        <td>M2A</td>\n",
    "        <td>Not assigned</td>\n",
    "        <td>Not assigned\n",
    "        </td></tr>\n",
    "        <tr>\n",
    "        <td>M3A</td>\n",
    "        <td><a href=\"/wiki/North_York\" title=\"North York\">North York</a></td>\n",
    "        <td><a href=\"/wiki/Parkwoods\" title=\"Parkwoods\">Parkwoods</a>\n",
    "        </td></tr>\n",
    "        <tr>\n",
    "        <td>M4A</td>\n",
    "        <td><a href=\"/wiki/North_York\" title=\"North York\">North York</a></td>\n",
    "        <td><a href=\"/wiki/Victoria_Village\" title=\"Victoria Village\">Victoria Village</a>\n",
    "        </td></tr>\n",
    "        <tr>\n",
    "    </table>"
   ]
  },
  {
   "cell_type": "markdown",
   "metadata": {},
   "source": [
    "### Parse the Table Information"
   ]
  },
  {
   "cell_type": "code",
   "execution_count": 6,
   "metadata": {},
   "outputs": [
    {
     "data": {
      "text/plain": [
       "32"
      ]
     },
     "execution_count": 6,
     "metadata": {},
     "output_type": "execute_result"
    }
   ],
   "source": [
    "# Parse the table headers from the table\n",
    "# Remove any end of line characters\n",
    "tableheaderTags = table.find_all('th')\n",
    "columnHeaders = []\n",
    "for header in tableheaderTags:\n",
    "    columnHeaders.append(header.get_text().rstrip())\n",
    "csv_writer.writerow(columnHeaders)"
   ]
  },
  {
   "cell_type": "markdown",
   "metadata": {},
   "source": [
    "### Apply the Specified Rules\n",
    "\n",
    "Only process the cells that have an assigned borough. Ignore cells with a borough that is Not assigned. More than one neighborhood can exist in one postal code area. For example, in the table on the Wikipedia page, you will notice that M5A is listed twice and has two neighborhoods: Harbourfront and Regent Park. These two rows will be combined into one row with the neighborhoods separated with a comma as shown in row 11 in the above table.\n",
    "\n",
    "If a cell has a borough but a Not assigned neighborhood, then the neighborhood will be the same as the borough. So for the 9th cell in the table on the Wikipedia page, the value of the Borough and the Neighborhood columns will be Queen's Park."
   ]
  },
  {
   "cell_type": "code",
   "execution_count": 7,
   "metadata": {},
   "outputs": [
    {
     "name": "stdout",
     "output_type": "stream",
     "text": [
      "Skipped M1A, Not assigned, Not assigned\n",
      "Skipped M2A, Not assigned, Not assigned\n",
      "Added M3A, North York, Parkwoods to the list\n",
      "Added M4A, North York, Victoria Village to the list\n",
      "Added M5A, Downtown Toronto, Harbourfront to the list\n",
      "Added M5A, Downtown Toronto, Regent Park to the list\n",
      "Added M6A, North York, Lawrence Heights to the list\n",
      "Added M6A, North York, Lawrence Manor to the list\n",
      "Assigned neighborhood with borough M7A, Queen's Park, Queen's Park\n",
      "Added M7A, Queen's Park, Queen's Park to the list\n",
      "Skipped M8A, Not assigned, Not assigned\n",
      "Added M9A, Etobicoke, Islington Avenue to the list\n",
      "Added M1B, Scarborough, Rouge to the list\n",
      "Added M1B, Scarborough, Malvern to the list\n",
      "Skipped M2B, Not assigned, Not assigned\n",
      "Added M3B, North York, Don Mills North to the list\n",
      "Added M4B, East York, Woodbine Gardens to the list\n",
      "Added M4B, East York, Parkview Hill to the list\n",
      "Added M5B, Downtown Toronto, Ryerson to the list\n",
      "Added M5B, Downtown Toronto, Garden District to the list\n",
      "Added M6B, North York, Glencairn to the list\n",
      "Skipped M7B, Not assigned, Not assigned\n",
      "Skipped M8B, Not assigned, Not assigned\n",
      "Added M9B, Etobicoke, Cloverdale to the list\n",
      "Added M9B, Etobicoke, Islington to the list\n",
      "Added M9B, Etobicoke, Martin Grove to the list\n",
      "Added M9B, Etobicoke, Princess Gardens to the list\n",
      "Added M9B, Etobicoke, West Deane Park to the list\n",
      "Added M1C, Scarborough, Highland Creek to the list\n",
      "Added M1C, Scarborough, Rouge Hill to the list\n",
      "Added M1C, Scarborough, Port Union to the list\n",
      "Skipped M2C, Not assigned, Not assigned\n",
      "Added M3C, North York, Flemingdon Park to the list\n",
      "Added M3C, North York, Don Mills South to the list\n",
      "Added M4C, East York, Woodbine Heights to the list\n",
      "Added M5C, Downtown Toronto, St. James Town to the list\n",
      "Added M6C, York, Humewood-Cedarvale to the list\n",
      "Skipped M7C, Not assigned, Not assigned\n",
      "Skipped M8C, Not assigned, Not assigned\n",
      "Added M9C, Etobicoke, Bloordale Gardens to the list\n",
      "Added M9C, Etobicoke, Eringate to the list\n",
      "Added M9C, Etobicoke, Markland Wood to the list\n",
      "Added M9C, Etobicoke, Old Burnhamthorpe to the list\n",
      "Added M1E, Scarborough, Guildwood to the list\n",
      "Added M1E, Scarborough, Morningside to the list\n",
      "Added M1E, Scarborough, West Hill to the list\n",
      "Skipped M2E, Not assigned, Not assigned\n",
      "Skipped M3E, Not assigned, Not assigned\n",
      "Added M4E, East Toronto, The Beaches to the list\n",
      "Added M5E, Downtown Toronto, Berczy Park to the list\n",
      "Added M6E, York, Caledonia-Fairbanks to the list\n",
      "Skipped M7E, Not assigned, Not assigned\n",
      "Skipped M8E, Not assigned, Not assigned\n",
      "Skipped M9E, Not assigned, Not assigned\n",
      "Added M1G, Scarborough, Woburn to the list\n",
      "Skipped M2G, Not assigned, Not assigned\n",
      "Skipped M3G, Not assigned, Not assigned\n",
      "Added M4G, East York, Leaside to the list\n",
      "Added M5G, Downtown Toronto, Central Bay Street to the list\n",
      "Added M6G, Downtown Toronto, Christie to the list\n",
      "Skipped M7G, Not assigned, Not assigned\n",
      "Skipped M8G, Not assigned, Not assigned\n",
      "Skipped M9G, Not assigned, Not assigned\n",
      "Added M1H, Scarborough, Cedarbrae to the list\n",
      "Added M2H, North York, Hillcrest Village to the list\n",
      "Added M3H, North York, Bathurst Manor to the list\n",
      "Added M3H, North York, Downsview North to the list\n",
      "Added M3H, North York, Wilson Heights to the list\n",
      "Added M4H, East York, Thorncliffe Park to the list\n",
      "Added M5H, Downtown Toronto, Adelaide to the list\n",
      "Added M5H, Downtown Toronto, King to the list\n",
      "Added M5H, Downtown Toronto, Richmond to the list\n",
      "Added M6H, West Toronto, Dovercourt Village to the list\n",
      "Added M6H, West Toronto, Dufferin to the list\n",
      "Skipped M7H, Not assigned, Not assigned\n",
      "Skipped M8H, Not assigned, Not assigned\n",
      "Skipped M9H, Not assigned, Not assigned\n",
      "Added M1J, Scarborough, Scarborough Village to the list\n",
      "Added M2J, North York, Fairview to the list\n",
      "Added M2J, North York, Henry Farm to the list\n",
      "Added M2J, North York, Oriole to the list\n",
      "Added M3J, North York, Northwood Park to the list\n",
      "Added M3J, North York, York University to the list\n",
      "Added M4J, East York, East Toronto to the list\n",
      "Added M5J, Downtown Toronto, Harbourfront East to the list\n",
      "Added M5J, Downtown Toronto, Toronto Islands to the list\n",
      "Added M5J, Downtown Toronto, Union Station to the list\n",
      "Added M6J, West Toronto, Little Portugal to the list\n",
      "Added M6J, West Toronto, Trinity to the list\n",
      "Skipped M7J, Not assigned, Not assigned\n",
      "Skipped M8J, Not assigned, Not assigned\n",
      "Skipped M9J, Not assigned, Not assigned\n",
      "Added M1K, Scarborough, East Birchmount Park to the list\n",
      "Added M1K, Scarborough, Ionview to the list\n",
      "Added M1K, Scarborough, Kennedy Park to the list\n",
      "Added M2K, North York, Bayview Village to the list\n",
      "Added M3K, North York, CFB Toronto to the list\n",
      "Added M3K, North York, Downsview East to the list\n",
      "Added M4K, East Toronto, The Danforth West to the list\n",
      "Added M4K, East Toronto, Riverdale to the list\n",
      "Added M5K, Downtown Toronto, Design Exchange to the list\n",
      "Added M5K, Downtown Toronto, Toronto Dominion Centre to the list\n",
      "Added M6K, West Toronto, Brockton to the list\n",
      "Added M6K, West Toronto, Exhibition Place to the list\n",
      "Added M6K, West Toronto, Parkdale Village to the list\n",
      "Skipped M7K, Not assigned, Not assigned\n",
      "Skipped M8K, Not assigned, Not assigned\n",
      "Skipped M9K, Not assigned, Not assigned\n",
      "Added M1L, Scarborough, Clairlea to the list\n",
      "Added M1L, Scarborough, Golden Mile to the list\n",
      "Added M1L, Scarborough, Oakridge to the list\n",
      "Added M2L, North York, Silver Hills to the list\n",
      "Added M2L, North York, York Mills to the list\n",
      "Added M3L, North York, Downsview West to the list\n",
      "Added M4L, East Toronto, The Beaches West to the list\n",
      "Added M4L, East Toronto, India Bazaar to the list\n",
      "Added M5L, Downtown Toronto, Commerce Court to the list\n",
      "Added M5L, Downtown Toronto, Victoria Hotel to the list\n",
      "Added M6L, North York, Downsview to the list\n",
      "Added M6L, North York, North Park to the list\n",
      "Added M6L, North York, Upwood Park to the list\n",
      "Skipped M7L, Not assigned, Not assigned\n",
      "Skipped M8L, Not assigned, Not assigned\n",
      "Added M9L, North York, Humber Summit to the list\n",
      "Added M1M, Scarborough, Cliffcrest to the list\n",
      "Added M1M, Scarborough, Cliffside to the list\n",
      "Added M1M, Scarborough, Scarborough Village West to the list\n",
      "Added M2M, North York, Newtonbrook to the list\n",
      "Added M2M, North York, Willowdale to the list\n",
      "Added M3M, North York, Downsview Central to the list\n",
      "Added M4M, East Toronto, Studio District to the list\n",
      "Added M5M, North York, Bedford Park to the list\n",
      "Added M5M, North York, Lawrence Manor East to the list\n",
      "Added M6M, York, Del Ray to the list\n",
      "Added M6M, York, Keelesdale to the list\n",
      "Added M6M, York, Mount Dennis to the list\n",
      "Added M6M, York, Silverthorn to the list\n",
      "Skipped M7M, Not assigned, Not assigned\n",
      "Skipped M8M, Not assigned, Not assigned\n",
      "Added M9M, North York, Emery to the list\n",
      "Added M9M, North York, Humberlea to the list\n",
      "Added M1N, Scarborough, Birch Cliff to the list\n",
      "Added M1N, Scarborough, Cliffside West to the list\n",
      "Added M2N, North York, Willowdale South to the list\n",
      "Added M3N, North York, Downsview Northwest to the list\n",
      "Added M4N, Central Toronto, Lawrence Park to the list\n",
      "Added M5N, Central Toronto, Roselawn to the list\n",
      "Added M6N, York, The Junction North to the list\n",
      "Added M6N, York, Runnymede to the list\n",
      "Skipped M7N, Not assigned, Not assigned\n",
      "Skipped M8N, Not assigned, Not assigned\n",
      "Added M9N, York, Weston to the list\n",
      "Added M1P, Scarborough, Dorset Park to the list\n",
      "Added M1P, Scarborough, Scarborough Town Centre to the list\n",
      "Added M1P, Scarborough, Wexford Heights to the list\n",
      "Added M2P, North York, York Mills West to the list\n",
      "Skipped M3P, Not assigned, Not assigned\n",
      "Added M4P, Central Toronto, Davisville North to the list\n",
      "Added M5P, Central Toronto, Forest Hill North to the list\n",
      "Added M5P, Central Toronto, Forest Hill West to the list\n",
      "Added M6P, West Toronto, High Park to the list\n",
      "Added M6P, West Toronto, The Junction South to the list\n",
      "Skipped M7P, Not assigned, Not assigned\n",
      "Skipped M8P, Not assigned, Not assigned\n",
      "Added M9P, Etobicoke, Westmount to the list\n",
      "Added M1R, Scarborough, Maryvale to the list\n",
      "Added M1R, Scarborough, Wexford to the list\n",
      "Added M2R, North York, Willowdale West to the list\n",
      "Skipped M3R, Not assigned, Not assigned\n",
      "Added M4R, Central Toronto, North Toronto West to the list\n",
      "Added M5R, Central Toronto, The Annex to the list\n",
      "Added M5R, Central Toronto, North Midtown to the list\n",
      "Added M5R, Central Toronto, Yorkville to the list\n",
      "Added M6R, West Toronto, Parkdale to the list\n",
      "Added M6R, West Toronto, Roncesvalles to the list\n",
      "Added M7R, Mississauga, Canada Post Gateway Processing Centre to the list\n",
      "Skipped M8R, Not assigned, Not assigned\n",
      "Added M9R, Etobicoke, Kingsview Village to the list\n",
      "Added M9R, Etobicoke, Martin Grove Gardens to the list\n",
      "Added M9R, Etobicoke, Richview Gardens to the list\n",
      "Added M9R, Etobicoke, St. Phillips to the list\n",
      "Added M1S, Scarborough, Agincourt to the list\n",
      "Skipped M2S, Not assigned, Not assigned\n",
      "Skipped M3S, Not assigned, Not assigned\n",
      "Added M4S, Central Toronto, Davisville to the list\n",
      "Added M5S, Downtown Toronto, Harbord to the list\n",
      "Added M5S, Downtown Toronto, University of Toronto to the list\n",
      "Added M6S, West Toronto, Runnymede to the list\n",
      "Added M6S, West Toronto, Swansea to the list\n",
      "Skipped M7S, Not assigned, Not assigned\n",
      "Skipped M8S, Not assigned, Not assigned\n",
      "Skipped M9S, Not assigned, Not assigned\n",
      "Added M1T, Scarborough, Clarks Corners to the list\n",
      "Added M1T, Scarborough, Sullivan to the list\n",
      "Added M1T, Scarborough, Tam O'Shanter to the list\n",
      "Skipped M2T, Not assigned, Not assigned\n",
      "Skipped M3T, Not assigned, Not assigned\n",
      "Added M4T, Central Toronto, Moore Park to the list\n",
      "Added M4T, Central Toronto, Summerhill East to the list\n",
      "Added M5T, Downtown Toronto, Chinatown to the list\n",
      "Added M5T, Downtown Toronto, Grange Park to the list\n",
      "Added M5T, Downtown Toronto, Kensington Market to the list\n",
      "Skipped M6T, Not assigned, Not assigned\n",
      "Skipped M7T, Not assigned, Not assigned\n",
      "Skipped M8T, Not assigned, Not assigned\n",
      "Skipped M9T, Not assigned, Not assigned\n",
      "Added M1V, Scarborough, Agincourt North to the list\n",
      "Added M1V, Scarborough, L'Amoreaux East to the list\n",
      "Added M1V, Scarborough, Milliken to the list\n",
      "Added M1V, Scarborough, Steeles East to the list\n",
      "Skipped M2V, Not assigned, Not assigned\n",
      "Skipped M3V, Not assigned, Not assigned\n",
      "Added M4V, Central Toronto, Deer Park to the list\n",
      "Added M4V, Central Toronto, Forest Hill SE to the list\n",
      "Added M4V, Central Toronto, Rathnelly to the list\n",
      "Added M4V, Central Toronto, South Hill to the list\n",
      "Added M4V, Central Toronto, Summerhill West to the list\n",
      "Added M5V, Downtown Toronto, CN Tower to the list\n",
      "Added M5V, Downtown Toronto, Bathurst Quay to the list\n",
      "Added M5V, Downtown Toronto, Island airport to the list\n",
      "Added M5V, Downtown Toronto, Harbourfront West to the list\n",
      "Added M5V, Downtown Toronto, King and Spadina to the list\n",
      "Added M5V, Downtown Toronto, Railway Lands to the list\n",
      "Added M5V, Downtown Toronto, South Niagara to the list\n",
      "Skipped M6V, Not assigned, Not assigned\n",
      "Skipped M7V, Not assigned, Not assigned\n",
      "Added M8V, Etobicoke, Humber Bay Shores to the list\n",
      "Added M8V, Etobicoke, Mimico South to the list\n",
      "Added M8V, Etobicoke, New Toronto to the list\n",
      "Added M9V, Etobicoke, Albion Gardens to the list\n",
      "Added M9V, Etobicoke, Beaumond Heights to the list\n",
      "Added M9V, Etobicoke, Humbergate to the list\n",
      "Added M9V, Etobicoke, Jamestown to the list\n",
      "Added M9V, Etobicoke, Mount Olive to the list\n",
      "Added M9V, Etobicoke, Silverstone to the list\n",
      "Added M9V, Etobicoke, South Steeles to the list\n",
      "Added M9V, Etobicoke, Thistletown to the list\n",
      "Added M1W, Scarborough, L'Amoreaux West to the list\n",
      "Skipped M2W, Not assigned, Not assigned\n",
      "Skipped M3W, Not assigned, Not assigned\n",
      "Added M4W, Downtown Toronto, Rosedale to the list\n",
      "Added M5W, Downtown Toronto, Stn A PO Boxes 25 The Esplanade to the list\n",
      "Skipped M6W, Not assigned, Not assigned\n",
      "Skipped M7W, Not assigned, Not assigned\n",
      "Added M8W, Etobicoke, Alderwood to the list\n",
      "Added M8W, Etobicoke, Long Branch to the list\n",
      "Added M9W, Etobicoke, Northwest to the list\n",
      "Added M1X, Scarborough, Upper Rouge to the list\n",
      "Skipped M2X, Not assigned, Not assigned\n",
      "Skipped M3X, Not assigned, Not assigned\n",
      "Added M4X, Downtown Toronto, Cabbagetown to the list\n",
      "Added M4X, Downtown Toronto, St. James Town to the list\n",
      "Added M5X, Downtown Toronto, First Canadian Place to the list\n",
      "Added M5X, Downtown Toronto, Underground city to the list\n",
      "Skipped M6X, Not assigned, Not assigned\n",
      "Skipped M7X, Not assigned, Not assigned\n",
      "Added M8X, Etobicoke, The Kingsway to the list\n",
      "Added M8X, Etobicoke, Montgomery Road to the list\n",
      "Added M8X, Etobicoke, Old Mill North to the list\n",
      "Skipped M9X, Not assigned, Not assigned\n",
      "Skipped M1Y, Not assigned, Not assigned\n",
      "Skipped M2Y, Not assigned, Not assigned\n",
      "Skipped M3Y, Not assigned, Not assigned\n",
      "Added M4Y, Downtown Toronto, Church and Wellesley to the list\n",
      "Skipped M5Y, Not assigned, Not assigned\n",
      "Skipped M6Y, Not assigned, Not assigned\n",
      "Added M7Y, East Toronto, Business Reply Mail Processing Centre 969 Eastern to the list\n",
      "Added M8Y, Etobicoke, Humber Bay to the list\n",
      "Added M8Y, Etobicoke, King's Mill Park to the list\n",
      "Added M8Y, Etobicoke, Kingsway Park South East to the list\n",
      "Added M8Y, Etobicoke, Mimico NE to the list\n",
      "Added M8Y, Etobicoke, Old Mill South to the list\n",
      "Added M8Y, Etobicoke, The Queensway East to the list\n",
      "Added M8Y, Etobicoke, Royal York South East to the list\n",
      "Added M8Y, Etobicoke, Sunnylea to the list\n",
      "Skipped M9Y, Not assigned, Not assigned\n",
      "Skipped M1Z, Not assigned, Not assigned\n",
      "Skipped M2Z, Not assigned, Not assigned\n",
      "Skipped M3Z, Not assigned, Not assigned\n",
      "Skipped M4Z, Not assigned, Not assigned\n",
      "Skipped M5Z, Not assigned, Not assigned\n",
      "Skipped M6Z, Not assigned, Not assigned\n",
      "Skipped M7Z, Not assigned, Not assigned\n",
      "Added M8Z, Etobicoke, Kingsway Park South West to the list\n",
      "Added M8Z, Etobicoke, Mimico NW to the list\n",
      "Added M8Z, Etobicoke, The Queensway West to the list\n",
      "Added M8Z, Etobicoke, Royal York South West to the list\n",
      "Added M8Z, Etobicoke, South of Bloor to the list\n",
      "Skipped M9Z, Not assigned, Not assigned\n"
     ]
    }
   ],
   "source": [
    "# Parse the contents of each row\n",
    "for table_row in table.find_all('tr'):\n",
    "    cells = table_row.find_all('td')\n",
    "    if len(cells) == 3:\n",
    "        code = cells[0].get_text().rstrip()\n",
    "        boro = cells[1].get_text().rstrip()\n",
    "        hood = cells[2].get_text().rstrip()\n",
    "\n",
    "        if (boro != \"Not assigned\"):\n",
    "            if (hood == \"Not assigned\"):\n",
    "                # Assign a default value for neighbourhoods that are not assigned\n",
    "                hood = boro\n",
    "                print(\"Assigned neighborhood with borough {0}, {1}, {2}\".format(code,boro,hood))\t\t\n",
    "            postalcode = {'postcode': code, 'borough': boro, 'neighborhood': hood}\n",
    "            postalcodes_list.append(postalcode)\n",
    "            print(\"Added {0}, {1}, {2} to the list\".format(code,boro,hood))\n",
    "            csv_writer.writerow([code, boro, hood])\n",
    "        else:\n",
    "            # Skip any lines where the Borough is \"Not Assigned\"\n",
    "            print(\"Skipped {0}, {1}, {2}\".format(code,boro,hood))\n",
    "csv_file.close()"
   ]
  },
  {
   "cell_type": "markdown",
   "metadata": {},
   "source": [
    "## Load the information into a Data Frame\n",
    "Show the first several rows of the table."
   ]
  },
  {
   "cell_type": "code",
   "execution_count": 8,
   "metadata": {},
   "outputs": [
    {
     "data": {
      "text/html": [
       "<div>\n",
       "<style scoped>\n",
       "    .dataframe tbody tr th:only-of-type {\n",
       "        vertical-align: middle;\n",
       "    }\n",
       "\n",
       "    .dataframe tbody tr th {\n",
       "        vertical-align: top;\n",
       "    }\n",
       "\n",
       "    .dataframe thead th {\n",
       "        text-align: right;\n",
       "    }\n",
       "</style>\n",
       "<table border=\"1\" class=\"dataframe\">\n",
       "  <thead>\n",
       "    <tr style=\"text-align: right;\">\n",
       "      <th></th>\n",
       "      <th>Postcode</th>\n",
       "      <th>Borough</th>\n",
       "      <th>Neighbourhood</th>\n",
       "    </tr>\n",
       "  </thead>\n",
       "  <tbody>\n",
       "    <tr>\n",
       "      <th>0</th>\n",
       "      <td>M3A</td>\n",
       "      <td>North York</td>\n",
       "      <td>Parkwoods</td>\n",
       "    </tr>\n",
       "    <tr>\n",
       "      <th>1</th>\n",
       "      <td>M4A</td>\n",
       "      <td>North York</td>\n",
       "      <td>Victoria Village</td>\n",
       "    </tr>\n",
       "    <tr>\n",
       "      <th>2</th>\n",
       "      <td>M5A</td>\n",
       "      <td>Downtown Toronto</td>\n",
       "      <td>Harbourfront</td>\n",
       "    </tr>\n",
       "    <tr>\n",
       "      <th>3</th>\n",
       "      <td>M5A</td>\n",
       "      <td>Downtown Toronto</td>\n",
       "      <td>Regent Park</td>\n",
       "    </tr>\n",
       "    <tr>\n",
       "      <th>4</th>\n",
       "      <td>M6A</td>\n",
       "      <td>North York</td>\n",
       "      <td>Lawrence Heights</td>\n",
       "    </tr>\n",
       "  </tbody>\n",
       "</table>\n",
       "</div>"
      ],
      "text/plain": [
       "  Postcode           Borough     Neighbourhood\n",
       "0      M3A        North York         Parkwoods\n",
       "1      M4A        North York  Victoria Village\n",
       "2      M5A  Downtown Toronto      Harbourfront\n",
       "3      M5A  Downtown Toronto       Regent Park\n",
       "4      M6A        North York  Lawrence Heights"
      ]
     },
     "execution_count": 8,
     "metadata": {},
     "output_type": "execute_result"
    }
   ],
   "source": [
    "# load the data from the csv file via the file handler, csv_file\n",
    "#df_new = pd.read_csv(csv_file)\n",
    "df_postalCodesToronto = pd.read_csv('cms_scrape.csv')\n",
    "df_postalCodesToronto.head()"
   ]
  },
  {
   "cell_type": "markdown",
   "metadata": {},
   "source": [
    "### Apply the additional rule to the data\n",
    "Collapse the Postcodes where the Borough overlaps with more than one neighborhood.\n",
    "\n",
    "More than one neighborhood can exist in one postal code area. For example, in the table on the Wikipedia page, you will notice that M5A is listed twice and has two neighborhoods: Harbourfront and Regent Park. These two rows will be combined into one row with the neighborhoods separated with a comma as shown in row 11 in the above table."
   ]
  },
  {
   "cell_type": "code",
   "execution_count": 9,
   "metadata": {},
   "outputs": [
    {
     "data": {
      "text/plain": [
       "Index(['Postcode', 'Borough', 'Neighbourhood'], dtype='object')"
      ]
     },
     "execution_count": 9,
     "metadata": {},
     "output_type": "execute_result"
    }
   ],
   "source": [
    "# Recall the column names\n",
    "df_postalCodesToronto.columns"
   ]
  },
  {
   "cell_type": "markdown",
   "metadata": {},
   "source": [
    "Use the group by function on the post codes and boroughs.\n",
    "This let's you find the boroughs that have more than one neighborhood and collaspe the neighborhood information into the same row."
   ]
  },
  {
   "cell_type": "code",
   "execution_count": 10,
   "metadata": {},
   "outputs": [
    {
     "data": {
      "text/html": [
       "<div>\n",
       "<style scoped>\n",
       "    .dataframe tbody tr th:only-of-type {\n",
       "        vertical-align: middle;\n",
       "    }\n",
       "\n",
       "    .dataframe tbody tr th {\n",
       "        vertical-align: top;\n",
       "    }\n",
       "\n",
       "    .dataframe thead th {\n",
       "        text-align: right;\n",
       "    }\n",
       "</style>\n",
       "<table border=\"1\" class=\"dataframe\">\n",
       "  <thead>\n",
       "    <tr style=\"text-align: right;\">\n",
       "      <th></th>\n",
       "      <th>Postcode</th>\n",
       "      <th>Borough</th>\n",
       "      <th>Neighbourhood</th>\n",
       "    </tr>\n",
       "  </thead>\n",
       "  <tbody>\n",
       "    <tr>\n",
       "      <th>0</th>\n",
       "      <td>M1B</td>\n",
       "      <td>Scarborough</td>\n",
       "      <td>Rouge,Malvern</td>\n",
       "    </tr>\n",
       "    <tr>\n",
       "      <th>1</th>\n",
       "      <td>M1C</td>\n",
       "      <td>Scarborough</td>\n",
       "      <td>Highland Creek,Rouge Hill,Port Union</td>\n",
       "    </tr>\n",
       "    <tr>\n",
       "      <th>2</th>\n",
       "      <td>M1E</td>\n",
       "      <td>Scarborough</td>\n",
       "      <td>Guildwood,Morningside,West Hill</td>\n",
       "    </tr>\n",
       "    <tr>\n",
       "      <th>3</th>\n",
       "      <td>M1G</td>\n",
       "      <td>Scarborough</td>\n",
       "      <td>Woburn</td>\n",
       "    </tr>\n",
       "    <tr>\n",
       "      <th>4</th>\n",
       "      <td>M1H</td>\n",
       "      <td>Scarborough</td>\n",
       "      <td>Cedarbrae</td>\n",
       "    </tr>\n",
       "  </tbody>\n",
       "</table>\n",
       "</div>"
      ],
      "text/plain": [
       "  Postcode      Borough                         Neighbourhood\n",
       "0      M1B  Scarborough                         Rouge,Malvern\n",
       "1      M1C  Scarborough  Highland Creek,Rouge Hill,Port Union\n",
       "2      M1E  Scarborough       Guildwood,Morningside,West Hill\n",
       "3      M1G  Scarborough                                Woburn\n",
       "4      M1H  Scarborough                             Cedarbrae"
      ]
     },
     "execution_count": 10,
     "metadata": {},
     "output_type": "execute_result"
    }
   ],
   "source": [
    "df_postalCodesCollapsed = df_postalCodesToronto.groupby(by=['Postcode','Borough']).agg(lambda x: ','.join(x))\n",
    "df_postalCodesCollapsed.reset_index(level=['Postcode','Borough'], inplace=True)\n",
    "df_postalCodesCollapsed.head()"
   ]
  },
  {
   "cell_type": "markdown",
   "metadata": {},
   "source": [
    "### Now the table is formatted."
   ]
  },
  {
   "cell_type": "markdown",
   "metadata": {},
   "source": [
    "Show the size of the dataframe; print the number of rows in the dataframe."
   ]
  },
  {
   "cell_type": "code",
   "execution_count": 11,
   "metadata": {},
   "outputs": [
    {
     "data": {
      "text/plain": [
       "(103, 3)"
      ]
     },
     "execution_count": 11,
     "metadata": {},
     "output_type": "execute_result"
    }
   ],
   "source": [
    "# This outputs (103,3)\n",
    "df_postalCodesCollapsed.shape"
   ]
  },
  {
   "cell_type": "markdown",
   "metadata": {},
   "source": [
    "Export the revised dataframe to a CSV file for later use."
   ]
  },
  {
   "cell_type": "code",
   "execution_count": 12,
   "metadata": {},
   "outputs": [],
   "source": [
    "export_csv = df_postalCodesCollapsed.to_csv (r'postalCodesToronto_dataframe.csv', index = None, header=True)"
   ]
  }
 ],
 "metadata": {
  "kernelspec": {
   "display_name": "Python 3",
   "language": "python",
   "name": "python3"
  },
  "language_info": {
   "codemirror_mode": {
    "name": "ipython",
    "version": 3
   },
   "file_extension": ".py",
   "mimetype": "text/x-python",
   "name": "python",
   "nbconvert_exporter": "python",
   "pygments_lexer": "ipython3",
   "version": "3.6.8"
  }
 },
 "nbformat": 4,
 "nbformat_minor": 2
}
